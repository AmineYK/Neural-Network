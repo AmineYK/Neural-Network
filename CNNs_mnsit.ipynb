{
 "cells": [
  {
   "cell_type": "code",
   "execution_count": 1,
   "id": "94c7f830",
   "metadata": {},
   "outputs": [],
   "source": [
    "from utils import *\n",
    "from modules import *\n",
    "import numpy as np \n",
    "import pandas as pd\n",
    "from PIL import Image\n",
    "import os\n",
    "from os import listdir\n",
    "from sklearn.cluster import KMeans\n",
    "from sklearn.manifold import TSNE\n",
    "from sklearn.metrics import rand_score,adjusted_rand_score\n",
    "from sklearn.decomposition import PCA\n",
    "from tqdm import tqdm\n",
    "from sklearn.linear_model import LogisticRegression\n",
    "from sklearn.metrics import accuracy_score\n",
    "from time import time\n",
    "\n",
    "import pickle as pkl\n",
    "\n",
    "import warnings\n",
    "warnings.filterwarnings(\"ignore\")"
   ]
  },
  {
   "cell_type": "markdown",
   "id": "304b9ca0",
   "metadata": {},
   "source": [
    "# 1. Données MNIST Fashion"
   ]
  },
  {
   "cell_type": "code",
   "execution_count": null,
   "id": "c040286c",
   "metadata": {},
   "outputs": [],
   "source": [
    "mnist_data = pd.read_csv(\"data/fashion-mnist_train.csv\")\n",
    "\n",
    "X = mnist_data.drop([\"label\"], axis=1).values\n",
    "y = mnist_data[\"label\"].values\n",
    "\n",
    "X = (X - X.min(axis=1, keepdims=True)) / (X.max(axis=1, keepdims=True) - X.min(axis=1, keepdims=True))\n",
    "\n",
    "indices = np.random.permutation(len(X))\n",
    "X = X[indices]\n",
    "y = y[indices]\n",
    "\n",
    "X_train = X[:7000]\n",
    "Y_train = y[:7000]\n",
    "\n",
    "X_test = X[7000:10000]\n",
    "Y_test = y[7000:10000]"
   ]
  },
  {
   "cell_type": "code",
   "execution_count": 4,
   "id": "7ff5b232",
   "metadata": {},
   "outputs": [
    {
     "name": "stderr",
     "output_type": "stream",
     "text": [
      " 10%|████                                    | 10/100 [14:36<2:11:28, 87.65s/it]"
     ]
    },
    {
     "name": "stdout",
     "output_type": "stream",
     "text": [
      "Epoch 10/59 - Loss: 2.0223392059046774\n"
     ]
    },
    {
     "name": "stderr",
     "output_type": "stream",
     "text": [
      " 20%|████████                                | 20/100 [29:11<1:56:58, 87.73s/it]"
     ]
    },
    {
     "name": "stdout",
     "output_type": "stream",
     "text": [
      "Epoch 20/59 - Loss: 1.9434727803711127\n"
     ]
    },
    {
     "name": "stderr",
     "output_type": "stream",
     "text": [
      " 30%|████████████                            | 30/100 [43:45<1:41:55, 87.36s/it]"
     ]
    },
    {
     "name": "stdout",
     "output_type": "stream",
     "text": [
      "Epoch 30/59 - Loss: 1.9098191781932399\n"
     ]
    },
    {
     "name": "stderr",
     "output_type": "stream",
     "text": [
      " 40%|████████████████                        | 40/100 [58:18<1:27:03, 87.05s/it]"
     ]
    },
    {
     "name": "stdout",
     "output_type": "stream",
     "text": [
      "Epoch 40/59 - Loss: 1.8871942201243055\n"
     ]
    },
    {
     "name": "stderr",
     "output_type": "stream",
     "text": [
      " 50%|███████████████████                   | 50/100 [1:12:55<1:13:17, 87.96s/it]"
     ]
    },
    {
     "name": "stdout",
     "output_type": "stream",
     "text": [
      "Epoch 50/59 - Loss: 1.8191307962387586\n"
     ]
    },
    {
     "name": "stderr",
     "output_type": "stream",
     "text": [
      " 60%|████████████████████████                | 60/100 [1:27:37<58:45, 88.14s/it]"
     ]
    },
    {
     "name": "stdout",
     "output_type": "stream",
     "text": [
      "Epoch 60/59 - Loss: 1.7984922318085217\n"
     ]
    },
    {
     "name": "stderr",
     "output_type": "stream",
     "text": [
      " 70%|████████████████████████████            | 70/100 [1:42:09<43:32, 87.08s/it]"
     ]
    },
    {
     "name": "stdout",
     "output_type": "stream",
     "text": [
      "Epoch 70/59 - Loss: 1.7837658532698448\n"
     ]
    },
    {
     "name": "stderr",
     "output_type": "stream",
     "text": [
      " 80%|████████████████████████████████        | 80/100 [1:56:42<29:07, 87.39s/it]"
     ]
    },
    {
     "name": "stdout",
     "output_type": "stream",
     "text": [
      "Epoch 80/59 - Loss: 1.7676652542588358\n"
     ]
    },
    {
     "name": "stderr",
     "output_type": "stream",
     "text": [
      " 90%|████████████████████████████████████    | 90/100 [2:11:12<14:28, 86.84s/it]"
     ]
    },
    {
     "name": "stdout",
     "output_type": "stream",
     "text": [
      "Epoch 90/59 - Loss: 1.7605353055935393\n"
     ]
    },
    {
     "name": "stderr",
     "output_type": "stream",
     "text": [
      "100%|███████████████████████████████████████| 100/100 [2:25:40<00:00, 87.41s/it]"
     ]
    },
    {
     "name": "stdout",
     "output_type": "stream",
     "text": [
      "Epoch 100/59 - Loss: 1.7516812779246937\n"
     ]
    },
    {
     "name": "stderr",
     "output_type": "stream",
     "text": [
      "\n"
     ]
    },
    {
     "data": {
      "image/png": "[encoded data removed]",
      "text/plain": [
       "<Figure size 432x288 with 1 Axes>"
      ]
     },
     "metadata": {
      "needs_background": "light"
     },
     "output_type": "display_data"
    },
    {
     "name": "stdout",
     "output_type": "stream",
     "text": [
      "Accuracy  :  0.8134285714285714\n",
      "Optimisation finie au bout de  145  min\n"
     ]
    }
   ],
   "source": [
    "cnn_mnist = Sequentiel([\n",
    "    Conv1D(k_size=3, chan_in=1, chan_out=32, stride=2, init=\"xavier\"),\n",
    "    MaxPool1D(2, 2), \n",
    "    Flatten(),\n",
    "    ModuleLineaire(6240, 3000, init=\"xavier\"),\n",
    "    ReLU(),\n",
    "    ModuleLineaire(3000, 500, init=\"xavier\"),\n",
    "    ReLU(),\n",
    "    ModuleLineaire(500, 100, init=\"xavier\"),\n",
    "    ReLU(),\n",
    "    ModuleLineaire(100, 10, init=\"xavier\"),\n",
    "    SoftMax()\n",
    "])\n",
    "\n",
    "\n",
    "opti = Optim(cnn_mnist,CrossEntropieLoss(10), eps=1e-5)\n",
    "tac = time()\n",
    "opti.SGD(X_train[:,:,np.newaxis], y_train, taille_batch=59, nb_epochs=100, verbose=True)\n",
    "tic = time()\n",
    "opti.affichage(X_train[:,:,np.newaxis],y_train)\n",
    "\n",
    "print(\"Optimisation finie au bout de \",int((tic-tac)/60),\" min\")"
   ]
  },
  {
   "cell_type": "code",
   "execution_count": 5,
   "id": "b0e1b62b",
   "metadata": {},
   "outputs": [
    {
     "ename": "NameError",
     "evalue": "name 'Y_train_letters' is not defined",
     "output_type": "error",
     "traceback": [
      "\u001b[0;31m---------------------------------------------------------------------------\u001b[0m",
      "\u001b[0;31mNameError\u001b[0m                                 Traceback (most recent call last)",
      "Input \u001b[0;32mIn [5]\u001b[0m, in \u001b[0;36m<cell line: 1>\u001b[0;34m()\u001b[0m\n\u001b[0;32m----> 1\u001b[0m \u001b[38;5;28mprint\u001b[39m(\u001b[38;5;124m\"\u001b[39m\u001b[38;5;124mAccuracy sur le train\u001b[39m\u001b[38;5;124m\"\u001b[39m,opti\u001b[38;5;241m.\u001b[39mgetNetwork()\u001b[38;5;241m.\u001b[39maccuracy(X_train,\u001b[43mY_train_letters\u001b[49m))\n\u001b[1;32m      2\u001b[0m \u001b[38;5;28mprint\u001b[39m(\u001b[38;5;124m\"\u001b[39m\u001b[38;5;124mAccuracy sur le test\u001b[39m\u001b[38;5;124m\"\u001b[39m,opti\u001b[38;5;241m.\u001b[39mgetNetwork()\u001b[38;5;241m.\u001b[39maccuracy(X_test,y_test))\n",
      "\u001b[0;31mNameError\u001b[0m: name 'Y_train_letters' is not defined"
     ]
    }
   ],
   "source": [
    "print(\"Accuracy sur le train\",opti.getNetwork().accuracy(X_train,Y_train_letrs))\n",
    "print(\"Accuracy sur le test\",opti.getNetwork().accuracy(X_test,y_test))"
   ]
  },
  {
   "cell_type": "code",
   "execution_count": null,
   "id": "475d0ba0",
   "metadata": {},
   "outputs": [],
   "source": [
    "net_to_graph(opti.getNetwork(), net_name=\"networks_images/network_CNN_mnist\", horizontal=True)"
   ]
  }
 ],
 "metadata": {
  "kernelspec": {
   "display_name": "Python 3 (ipykernel)",
   "language": "python",
   "name": "python3"
  },
  "language_info": {
   "codemirror_mode": {
    "name": "ipython",
    "version": 3
   },
   "file_extension": ".py",
   "mimetype": "text/x-python",
   "name": "python",
   "nbconvert_exporter": "python",
   "pygments_lexer": "ipython3",
   "version": "3.9.12"
  }
 },
 "nbformat": 4,
 "nbformat_minor": 5
}
