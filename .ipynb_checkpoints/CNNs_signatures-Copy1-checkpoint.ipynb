{
 "cells": [
  {
   "cell_type": "code",
   "execution_count": 2,
   "id": "de35862e",
   "metadata": {},
   "outputs": [],
   "source": [
    "from utils import *\n",
    "from modules import *\n",
    "import numpy as np \n",
    "import pandas as pd\n",
    "from PIL import Image\n",
    "import os\n",
    "from os import listdir\n",
    "\n",
    "\n",
    "import pandas as pd\n",
    "import numpy as np\n",
    "import pickle as pkl\n",
    "import matplotlib.pyplot as plt\n",
    "from sklearn.cluster import KMeans\n",
    "from sklearn.manifold import TSNE\n",
    "from sklearn.metrics import rand_score,adjusted_rand_score\n",
    "\n",
    "from resizeimage import resizeimage\n",
    "from scipy.ndimage import rotate\n",
    "from time import time\n",
    "\n",
    "import warnings\n",
    "warnings.filterwarnings(\"ignore\")"
   ]
  },
  {
   "cell_type": "markdown",
   "id": "c58e786d",
   "metadata": {},
   "source": [
    "# 1. Données Signatures"
   ]
  },
  {
   "cell_type": "code",
   "execution_count": 3,
   "id": "33149ba0",
   "metadata": {},
   "outputs": [],
   "source": [
    "def rotate_image(img, angle):\n",
    "    return rotate(img, angle, reshape=False, cval=255)"
   ]
  },
  {
   "cell_type": "code",
   "execution_count": 4,
   "id": "be177f79",
   "metadata": {},
   "outputs": [],
   "source": [
    "def get_signatures(test=False):\n",
    "    \n",
    "    type_data = \"Train\"\n",
    "    if test:\n",
    "        type_data = \"Test\"\n",
    "        \n",
    "    folder_dir = f\"data/signature/{type_data}\"\n",
    "    \n",
    "    X = []\n",
    "    y = []\n",
    "    \n",
    "    new_size = (28, 28)\n",
    "    \n",
    "    i = 0\n",
    "    for person in os.listdir(folder_dir):\n",
    "        \n",
    "        for path in os.listdir(f\"{folder_dir}/{person}\"):\n",
    "            img = Image.open(f\"{folder_dir}/{person}/{path}\")\n",
    "            img = np.array(resizeimage.resize_contain(img, [75, 75]))[:,:,0:3].reshape(-1, 3)\n",
    "            \n",
    "            X.append(img)\n",
    "            y.append(i)\n",
    "            \n",
    "            img_r = rotate_image(img.reshape(75, 75, 3), 90).reshape(-1, 3)\n",
    "            X.append(img_r)\n",
    "            y.append(i)\n",
    "        \n",
    "            img_r = rotate_image(img.reshape(75, 75, 3), 180).reshape(-1, 3)\n",
    "            X.append(img_r)\n",
    "            y.append(i)\n",
    "            \n",
    "            img_r = rotate_image(img.reshape(75, 75, 3), 270).reshape(-1, 3)\n",
    "            X.append(img_r)\n",
    "            y.append(i)\n",
    "            \n",
    "            img_r = rotate_image(img.reshape(75, 75, 3), 45).reshape(-1, 3)\n",
    "            X.append(img_r)\n",
    "            y.append(i)\n",
    "            \n",
    "            img_r = rotate_image(img.reshape(75, 75, 3), 135).reshape(-1, 3)\n",
    "            X.append(img_r)\n",
    "            y.append(i)\n",
    "            \n",
    "            img_r = rotate_image(img.reshape(75, 75, 3), 225).reshape(-1, 3)\n",
    "            X.append(img_r)\n",
    "            y.append(i)\n",
    "            \n",
    "            img_r = rotate_image(img.reshape(75, 75, 3), 315).reshape(-1, 3)\n",
    "            X.append(img_r)\n",
    "            y.append(i)\n",
    "            \n",
    "        i += 1\n",
    "\n",
    "    X = np.array(X)\n",
    "    y = np.array(y)\n",
    "    \n",
    "    indices = np.random.permutation(len(X))\n",
    "    return X[indices], y[indices]"
   ]
  },
  {
   "cell_type": "code",
   "execution_count": 9,
   "id": "22fa271e",
   "metadata": {},
   "outputs": [
    {
     "data": {
      "image/png": "[encoded data removed]",
      "text/plain": [
       "<Figure size 1080x720 with 2 Axes>"
      ]
     },
     "metadata": {
      "needs_background": "light"
     },
     "output_type": "display_data"
    }
   ],
   "source": [
    "X_train, Y_train = get_signatures()\n",
    "plt.figure(figsize=(15,10))\n",
    "\n",
    "plt.subplot(121)\n",
    "plt.title(\"Données signature avant normalisation\")\n",
    "plt.imshow(X_train[0].reshape((75,75,3)))\n",
    "\n",
    "\n",
    "X_train = normalisation(X_train)\n",
    "X_train = X_train.astype(\"float64\")\n",
    "\n",
    "plt.subplot(122)\n",
    "plt.title(\"Données signature apres normalisation\")\n",
    "plt.imshow(X_train[0].reshape((75,75,3)))\n",
    "plt.show()\n",
    "\n",
    "X_test, Y_test = get_signatures(test=True)\n",
    "X_test = normalisation(X_test)\n",
    "X_test = X_test.astype(\"float64\")"
   ]
  },
  {
   "cell_type": "code",
   "execution_count": 5,
   "id": "900f5dc0",
   "metadata": {},
   "outputs": [
    {
     "name": "stderr",
     "output_type": "stream",
     "text": [
      "  3%|█▎                                      | 10/300 [02:38<1:16:29, 15.83s/it]"
     ]
    },
    {
     "name": "stdout",
     "output_type": "stream",
     "text": [
      "Epoch 10/30 - Loss: 1.5169845639271797\n"
     ]
    },
    {
     "name": "stderr",
     "output_type": "stream",
     "text": [
      "  7%|██▋                                     | 20/300 [05:17<1:14:02, 15.87s/it]"
     ]
    },
    {
     "name": "stdout",
     "output_type": "stream",
     "text": [
      "Epoch 20/30 - Loss: 1.4621135360327862\n"
     ]
    },
    {
     "name": "stderr",
     "output_type": "stream",
     "text": [
      " 10%|████                                    | 30/300 [07:56<1:11:35, 15.91s/it]"
     ]
    },
    {
     "name": "stdout",
     "output_type": "stream",
     "text": [
      "Epoch 30/30 - Loss: 1.410327194866401\n"
     ]
    },
    {
     "name": "stderr",
     "output_type": "stream",
     "text": [
      " 13%|█████▎                                  | 40/300 [10:35<1:08:48, 15.88s/it]"
     ]
    },
    {
     "name": "stdout",
     "output_type": "stream",
     "text": [
      "Epoch 40/30 - Loss: 1.3642188814741976\n"
     ]
    },
    {
     "name": "stderr",
     "output_type": "stream",
     "text": [
      " 17%|██████▋                                 | 50/300 [13:15<1:06:33, 15.97s/it]"
     ]
    },
    {
     "name": "stdout",
     "output_type": "stream",
     "text": [
      "Epoch 50/30 - Loss: 1.3208247402486866\n"
     ]
    },
    {
     "name": "stderr",
     "output_type": "stream",
     "text": [
      " 20%|████████                                | 60/300 [15:55<1:03:49, 15.96s/it]"
     ]
    },
    {
     "name": "stdout",
     "output_type": "stream",
     "text": [
      "Epoch 60/30 - Loss: 1.2791111460462878\n"
     ]
    },
    {
     "name": "stderr",
     "output_type": "stream",
     "text": [
      " 23%|█████████▎                              | 70/300 [18:34<1:01:07, 15.95s/it]"
     ]
    },
    {
     "name": "stdout",
     "output_type": "stream",
     "text": [
      "Epoch 70/30 - Loss: 1.2526255071965176\n"
     ]
    },
    {
     "name": "stderr",
     "output_type": "stream",
     "text": [
      " 27%|███████████▏                              | 80/300 [21:13<58:26, 15.94s/it]"
     ]
    },
    {
     "name": "stdout",
     "output_type": "stream",
     "text": [
      "Epoch 80/30 - Loss: 1.2281961967953765\n"
     ]
    },
    {
     "name": "stderr",
     "output_type": "stream",
     "text": [
      " 30%|████████████▌                             | 90/300 [23:52<55:20, 15.81s/it]"
     ]
    },
    {
     "name": "stdout",
     "output_type": "stream",
     "text": [
      "Epoch 90/30 - Loss: 1.2182399609917074\n"
     ]
    },
    {
     "name": "stderr",
     "output_type": "stream",
     "text": [
      " 33%|█████████████▋                           | 100/300 [26:30<52:38, 15.79s/it]"
     ]
    },
    {
     "name": "stdout",
     "output_type": "stream",
     "text": [
      "Epoch 100/30 - Loss: 1.2077844431404288\n"
     ]
    },
    {
     "name": "stderr",
     "output_type": "stream",
     "text": [
      " 37%|███████████████                          | 110/300 [29:08<50:04, 15.81s/it]"
     ]
    },
    {
     "name": "stdout",
     "output_type": "stream",
     "text": [
      "Epoch 110/30 - Loss: 1.1980092003771745\n"
     ]
    },
    {
     "name": "stderr",
     "output_type": "stream",
     "text": [
      " 40%|████████████████▍                        | 120/300 [31:46<47:22, 15.79s/it]"
     ]
    },
    {
     "name": "stdout",
     "output_type": "stream",
     "text": [
      "Epoch 120/30 - Loss: 1.1729843275641503\n"
     ]
    },
    {
     "name": "stderr",
     "output_type": "stream",
     "text": [
      " 43%|█████████████████▊                       | 130/300 [34:24<44:46, 15.80s/it]"
     ]
    },
    {
     "name": "stdout",
     "output_type": "stream",
     "text": [
      "Epoch 130/30 - Loss: 1.1783735087637168\n"
     ]
    },
    {
     "name": "stderr",
     "output_type": "stream",
     "text": [
      " 47%|███████████████████▏                     | 140/300 [37:01<42:02, 15.76s/it]"
     ]
    },
    {
     "name": "stdout",
     "output_type": "stream",
     "text": [
      "Epoch 140/30 - Loss: 1.160118507653199\n"
     ]
    },
    {
     "name": "stderr",
     "output_type": "stream",
     "text": [
      " 50%|████████████████████▌                    | 150/300 [39:40<39:46, 15.91s/it]"
     ]
    },
    {
     "name": "stdout",
     "output_type": "stream",
     "text": [
      "Epoch 150/30 - Loss: 1.1513548777601843\n"
     ]
    },
    {
     "name": "stderr",
     "output_type": "stream",
     "text": [
      " 53%|█████████████████████▊                   | 160/300 [42:19<37:05, 15.90s/it]"
     ]
    },
    {
     "name": "stdout",
     "output_type": "stream",
     "text": [
      "Epoch 160/30 - Loss: 1.148724207078745\n"
     ]
    },
    {
     "name": "stderr",
     "output_type": "stream",
     "text": [
      " 57%|███████████████████████▏                 | 170/300 [44:55<33:49, 15.62s/it]"
     ]
    },
    {
     "name": "stdout",
     "output_type": "stream",
     "text": [
      "Epoch 170/30 - Loss: 1.1448368342417798\n"
     ]
    },
    {
     "name": "stderr",
     "output_type": "stream",
     "text": [
      " 60%|████████████████████████▌                | 180/300 [47:31<31:19, 15.66s/it]"
     ]
    },
    {
     "name": "stdout",
     "output_type": "stream",
     "text": [
      "Epoch 180/30 - Loss: 1.149795931462623\n"
     ]
    },
    {
     "name": "stderr",
     "output_type": "stream",
     "text": [
      " 63%|█████████████████████████▉               | 190/300 [50:11<29:10, 15.92s/it]"
     ]
    },
    {
     "name": "stdout",
     "output_type": "stream",
     "text": [
      "Epoch 190/30 - Loss: 1.1172446167682213\n"
     ]
    },
    {
     "name": "stderr",
     "output_type": "stream",
     "text": [
      " 67%|███████████████████████████▎             | 200/300 [52:48<26:16, 15.77s/it]"
     ]
    },
    {
     "name": "stdout",
     "output_type": "stream",
     "text": [
      "Epoch 200/30 - Loss: 1.1105220788714387\n"
     ]
    },
    {
     "name": "stderr",
     "output_type": "stream",
     "text": [
      " 70%|████████████████████████████▋            | 210/300 [55:25<23:28, 15.65s/it]"
     ]
    },
    {
     "name": "stdout",
     "output_type": "stream",
     "text": [
      "Epoch 210/30 - Loss: 1.1154150847750814\n"
     ]
    },
    {
     "name": "stderr",
     "output_type": "stream",
     "text": [
      " 73%|██████████████████████████████           | 220/300 [58:02<20:58, 15.73s/it]"
     ]
    },
    {
     "name": "stdout",
     "output_type": "stream",
     "text": [
      "Epoch 220/30 - Loss: 1.1131047572909993\n"
     ]
    },
    {
     "name": "stderr",
     "output_type": "stream",
     "text": [
      " 77%|█████████████████████████████▉         | 230/300 [1:00:39<18:20, 15.72s/it]"
     ]
    },
    {
     "name": "stdout",
     "output_type": "stream",
     "text": [
      "Epoch 230/30 - Loss: 1.1029319913118667\n"
     ]
    },
    {
     "name": "stderr",
     "output_type": "stream",
     "text": [
      " 80%|███████████████████████████████▏       | 240/300 [1:03:17<15:44, 15.74s/it]"
     ]
    },
    {
     "name": "stdout",
     "output_type": "stream",
     "text": [
      "Epoch 240/30 - Loss: 1.0952750860939386\n"
     ]
    },
    {
     "name": "stderr",
     "output_type": "stream",
     "text": [
      " 83%|████████████████████████████████▌      | 250/300 [1:05:54<13:07, 15.75s/it]"
     ]
    },
    {
     "name": "stdout",
     "output_type": "stream",
     "text": [
      "Epoch 250/30 - Loss: 1.0922945416458716\n"
     ]
    },
    {
     "name": "stderr",
     "output_type": "stream",
     "text": [
      " 87%|█████████████████████████████████▊     | 260/300 [1:08:32<10:30, 15.76s/it]"
     ]
    },
    {
     "name": "stdout",
     "output_type": "stream",
     "text": [
      "Epoch 260/30 - Loss: 1.1022364991377995\n"
     ]
    },
    {
     "name": "stderr",
     "output_type": "stream",
     "text": [
      " 90%|███████████████████████████████████    | 270/300 [1:11:09<07:52, 15.76s/it]"
     ]
    },
    {
     "name": "stdout",
     "output_type": "stream",
     "text": [
      "Epoch 270/30 - Loss: 1.0846115498749915\n"
     ]
    },
    {
     "name": "stderr",
     "output_type": "stream",
     "text": [
      " 93%|████████████████████████████████████▍  | 280/300 [1:13:47<05:14, 15.73s/it]"
     ]
    },
    {
     "name": "stdout",
     "output_type": "stream",
     "text": [
      "Epoch 280/30 - Loss: 1.083266373363965\n"
     ]
    },
    {
     "name": "stderr",
     "output_type": "stream",
     "text": [
      " 97%|█████████████████████████████████████▋ | 290/300 [1:16:24<02:37, 15.73s/it]"
     ]
    },
    {
     "name": "stdout",
     "output_type": "stream",
     "text": [
      "Epoch 290/30 - Loss: 1.0807045890835074\n"
     ]
    },
    {
     "name": "stderr",
     "output_type": "stream",
     "text": [
      "100%|███████████████████████████████████████| 300/300 [1:19:01<00:00, 15.81s/it]"
     ]
    },
    {
     "name": "stdout",
     "output_type": "stream",
     "text": [
      "Epoch 300/30 - Loss: 1.0769119834341572\n"
     ]
    },
    {
     "name": "stderr",
     "output_type": "stream",
     "text": [
      "\n"
     ]
    },
    {
     "data": {
      "image/png": "[encoded data removed]",
      "text/plain": [
       "<Figure size 432x288 with 1 Axes>"
      ]
     },
     "metadata": {
      "needs_background": "light"
     },
     "output_type": "display_data"
    },
    {
     "name": "stdout",
     "output_type": "stream",
     "text": [
      "Accuracy  :  0.936875\n",
      "CNN sur les données signature\n",
      "Optimisation finie au bout de  79  min\n"
     ]
    }
   ],
   "source": [
    "cnn_signa = Sequentiel([\n",
    "    Conv1D(k_size=2, chan_in=3, chan_out=16, stride=3, init=\"xavier\"),\n",
    "    MaxPool1D(2, 3), \n",
    "    Flatten(),\n",
    "    ModuleLineaire(10_000, 100, init=\"xavier\"),\n",
    "    ReLU(),\n",
    "    ModuleLineaire(100, 5, init=\"xavier\"),\n",
    "    SoftMax()\n",
    "])\n",
    "\n",
    "opti = Optim(cnn_signa,CrossEntropieLoss(5), eps=1e-5)\n",
    "tac = time()\n",
    "opti.SGD(X_train, Y_train, taille_batch=30, nb_epochs=300, verbose=True)\n",
    "tic = time()\n",
    "opti.affichage(X_train,Y_train)\n",
    "print(\"CNN sur les données signature\")\n",
    "print(\"Optimisation finie au bout de \",int((tic-tac)/60),\" min\")"
   ]
  },
  {
   "cell_type": "code",
   "execution_count": 7,
   "id": "1cad9df7",
   "metadata": {},
   "outputs": [],
   "source": [
    "#net_to_graph(opti.getNetwork(), net_name=\"networks_images/network_CNN_signa\", horizontal=True)"
   ]
  },
  {
   "cell_type": "code",
   "execution_count": 8,
   "id": "8ebf74d3",
   "metadata": {},
   "outputs": [
    {
     "name": "stdout",
     "output_type": "stream",
     "text": [
      "CNN sur les données signature\n",
      "Accuracy sur le train 0.936875\n",
      "Accuracy sur le test 0.815625\n"
     ]
    }
   ],
   "source": [
    "print(\"CNN sur les données signature\")\n",
    "\n",
    "print(\"Accuracy sur le train\",opti.getNetwork().accuracy(X_train,Y_train))\n",
    "print(\"Accuracy sur le test\",opti.getNetwork().accuracy(X_test,Y_test))"
   ]
  },
  {
   "cell_type": "code",
   "execution_count": 9,
   "id": "8b3ed9f0",
   "metadata": {},
   "outputs": [],
   "source": [
    "X_train, Y_train = get_signatures()\n",
    "\n",
    "X_train = normalisation(X_train)\n",
    "X_train = X_train.astype(\"float64\")\n",
    "X_test, Y_test = get_signatures(test=True)\n",
    "X_test = normalisation(X_test)\n",
    "X_test = X_test.astype(\"float64\")"
   ]
  },
  {
   "cell_type": "code",
   "execution_count": 10,
   "id": "b978614f",
   "metadata": {},
   "outputs": [
    {
     "name": "stdout",
     "output_type": "stream",
     "text": [
      "TRAIN\n",
      "\n",
      "Purete du clustering de Kmeans sur les labels USPS :  0.385\n",
      "Purete du clustering de Kmeans sur les labels prédits par le CNN :  0.385\n",
      "\n",
      "Rand_score du clustering de Kmeans sur les labels USPS :  0.6614907754846779\n",
      "Rand_score du clustering de Kmeans sur les labels prédits par le CNN :  0.6545661350844277\n",
      "--------------------------------------------\n",
      "\n",
      "TEST\n",
      "\n",
      "Purete du clustering de Kmeans sur les labels USPS :  0.259375\n",
      "Purete du clustering de Kmeans sur les labels prédits par le CNN:  0.659375\n",
      "\n",
      "Rand_score du clustering de Kmeans sur les labels USPS :  0.5175744514106583\n",
      "Rand_score du clustering de Kmeans sur les labels prédits par le CNN :  0.5188479623824451\n"
     ]
    }
   ],
   "source": [
    "nb_classes = 5\n",
    "\n",
    "Y_pred = opti.getNetwork().predict(X_train,nb_classes)\n",
    "\n",
    "X_train = X_train.reshape(X_train.shape[0],-1)\n",
    "\n",
    "kmeans = KMeans(n_clusters=nb_classes, random_state=0, max_iter=1000).fit(X_train)\n",
    "yhat = kmeans.labels_\n",
    "\n",
    "y_cluster_pred = np.zeros(len(X_train))\n",
    "indices = np.arange(len(X_train))\n",
    "\n",
    "for cluster in range(nb_classes):\n",
    "\n",
    "    vals, counts = np.unique(Y_train[yhat == cluster], return_counts=True)\n",
    "    val_maj = vals[np.argmax(counts)]\n",
    "\n",
    "    y_cluster_pred[indices[yhat == cluster]] = val_maj\n",
    "\n",
    "    \n",
    "y_cluster_pred = np.array(y_cluster_pred.astype(\"int\"))\n",
    "\n",
    "\n",
    "print(\"TRAIN\\n\")\n",
    "print(\"Purete du clustering de Kmeans sur les labels USPS : \",cluster_purity(Y_train,y_cluster_pred))\n",
    "print(\"Purete du clustering de Kmeans sur les labels prédits par le CNN : \",cluster_purity(Y_pred,y_cluster_pred))\n",
    "\n",
    "print()\n",
    "\n",
    "print(\"Rand_score du clustering de Kmeans sur les labels USPS : \",rand_score(Y_train,y_cluster_pred))\n",
    "print(\"Rand_score du clustering de Kmeans sur les labels prédits par le CNN : \",rand_score(Y_pred,y_cluster_pred))\n",
    "\n",
    "print(\"--------------------------------------------\")\n",
    "\n",
    "\n",
    "\n",
    "Y_pred = opti.getNetwork().predict(X_test,nb_classes)\n",
    "\n",
    "X_test = X_test.reshape(X_test.shape[0],-1)\n",
    "\n",
    "kmeans = KMeans(n_clusters=10, random_state=0, max_iter=1000).fit(X_test)\n",
    "yhat = kmeans.labels_\n",
    "\n",
    "y_cluster_pred = np.zeros(len(X_test))\n",
    "indices = np.arange(len(X_test))\n",
    "\n",
    "for cluster in range(nb_classes):\n",
    "\n",
    "    vals, counts = np.unique(Y_test[yhat == cluster], return_counts=True)\n",
    "    val_maj = vals[np.argmax(counts)]\n",
    "\n",
    "    y_cluster_pred[indices[yhat == cluster]] = val_maj\n",
    "\n",
    "y_cluster_pred = np.array(y_cluster_pred.astype(\"int\"))\n",
    "\n",
    "print(\"\\nTEST\\n\")\n",
    "print(\"Purete du clustering de Kmeans sur les labels USPS : \",cluster_purity(Y_test,y_cluster_pred))\n",
    "print(\"Purete du clustering de Kmeans sur les labels prédits par le CNN: \",cluster_purity(y_cluster_pred,Y_pred,nb_classes))\n",
    "\n",
    "print()\n",
    "\n",
    "print(\"Rand_score du clustering de Kmeans sur les labels USPS : \",rand_score(Y_test,y_cluster_pred))\n",
    "print(\"Rand_score du clustering de Kmeans sur les labels prédits par le CNN : \",rand_score(y_cluster_pred,Y_pred))\n"
   ]
  },
  {
   "cell_type": "code",
   "execution_count": 11,
   "id": "896207f4",
   "metadata": {},
   "outputs": [],
   "source": [
    "X_train, Y_train = get_signatures()\n",
    "\n",
    "X_train = normalisation(X_train)\n",
    "X_train = X_train.astype(\"float64\")\n",
    "X_test, Y_test = get_signatures(test=True)\n",
    "X_test = normalisation(X_test)\n",
    "X_test = X_test.astype(\"float64\")"
   ]
  },
  {
   "cell_type": "code",
   "execution_count": 12,
   "id": "f7b2c6ce",
   "metadata": {},
   "outputs": [
    {
     "data": {
      "image/png": "[encoded data removed]",
      "text/plain": [
       "<Figure size 1440x432 with 2 Axes>"
      ]
     },
     "metadata": {
      "needs_background": "light"
     },
     "output_type": "display_data"
    }
   ],
   "source": [
    "yhat = opti.getNetwork().predict(X_train,nb_classes)\n",
    "\n",
    "X_train = X_train.reshape(X_train.shape[0],-1)\n",
    "\n",
    "tsne = TSNE(n_components=2, init='pca',n_iter=500, verbose=0)\n",
    "X_train_tsne = tsne.fit_transform(X_train)\n",
    "\n",
    "colors = {i: plt.cm.tab10(i) for i in range(10)}\n",
    "\n",
    "fig = plt.figure(figsize=(20,6))\n",
    "\n",
    "plt.subplot(121)\n",
    "\n",
    "for c in range(nb_classes):\n",
    "    plt.scatter(X_train_tsne[:,0][Y_train == c],X_train_tsne[:,1][Y_train == c],color=colors[c],label=f\"classe {c}\")\n",
    "    \n",
    "plt.title(\"t-SNE sur les données USPS avec les labels d'origine\")\n",
    "plt.legend()\n",
    "plt.subplot(122)\n",
    "\n",
    "y_cluster_pred = np.zeros(len(X_train))\n",
    "indices = np.arange(len(X_train))\n",
    "\n",
    "for cluster in range(nb_classes):\n",
    "\n",
    "    vals, counts = np.unique(Y_train[yhat == cluster], return_counts=True)\n",
    "    val_maj = vals[np.argmax(counts)]\n",
    "    \n",
    "    y_cluster_pred[indices[yhat == cluster]] = val_maj\n",
    "    \n",
    "    \n",
    "colors = {i: plt.cm.tab10(i) for i in range(10)}\n",
    "for c in range(nb_classes):\n",
    "    plt.scatter(X_train_tsne[:,0][y_cluster_pred == c],X_train_tsne[:,1][y_cluster_pred == c],color=colors[c],label=f\"classe {c}\")\n",
    "    \n",
    "plt.title(\"t-SNE sur sur les données USPS avec les labels de prediction du CNN\")\n",
    "plt.legend()\n",
    "    \n",
    "plt.show()"
   ]
  }
 ],
 "metadata": {
  "kernelspec": {
   "display_name": "Python 3 (ipykernel)",
   "language": "python",
   "name": "python3"
  },
  "language_info": {
   "codemirror_mode": {
    "name": "ipython",
    "version": 3
   },
   "file_extension": ".py",
   "mimetype": "text/x-python",
   "name": "python",
   "nbconvert_exporter": "python",
   "pygments_lexer": "ipython3",
   "version": "3.9.12"
  }
 },
 "nbformat": 4,
 "nbformat_minor": 5
}
