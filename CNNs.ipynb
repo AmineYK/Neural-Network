{
 "cells": [
  {
   "cell_type": "code",
   "execution_count": 1,
   "id": "cbee0c13",
   "metadata": {},
   "outputs": [],
   "source": [
    "from utils import *\n",
    "from modules import *\n",
    "import numpy as np \n",
    "import pandas as pd\n",
    "from PIL import Image\n",
    "import os\n",
    "from os import listdir\n",
    "from sklearn.cluster import KMeans\n",
    "from sklearn.manifold import TSNE\n",
    "from sklearn.metrics import rand_score,adjusted_rand_score\n",
    "from sklearn.decomposition import PCA\n",
    "from tqdm import tqdm\n",
    "from sklearn.linear_model import LogisticRegression\n",
    "from sklearn.metrics import accuracy_score\n",
    "from time import time\n",
    "\n",
    "import pickle as pkl\n",
    "\n",
    "import warnings\n",
    "warnings.filterwarnings(\"ignore\")"
   ]
  },
  {
   "cell_type": "markdown",
   "id": "63ff6911",
   "metadata": {},
   "source": [
    "# 1. Données USPS"
   ]
  },
  {
   "cell_type": "code",
   "execution_count": 2,
   "id": "d502fbc7",
   "metadata": {},
   "outputs": [],
   "source": [
    "data = pkl.load(open(\"data/usps.pkl\",'rb'))\n",
    "\n",
    "X_train = data[\"X_train\"]\n",
    "Y_train = data[\"Y_train\"]\n",
    "X_test = data[\"X_test\"]\n",
    "Y_test = data[\"Y_test\"]"
   ]
  },
  {
   "cell_type": "code",
   "execution_count": 3,
   "id": "ed72f677",
   "metadata": {},
   "outputs": [
    {
     "ename": "TypeError",
     "evalue": "cannot unpack non-iterable NoneType object",
     "output_type": "error",
     "traceback": [
      "\u001b[0;31m---------------------------------------------------------------------------\u001b[0m",
      "\u001b[0;31mTypeError\u001b[0m                                 Traceback (most recent call last)",
      "Input \u001b[0;32mIn [3]\u001b[0m, in \u001b[0;36m<cell line: 1>\u001b[0;34m()\u001b[0m\n\u001b[1;32m      1\u001b[0m cnn_usps \u001b[38;5;241m=\u001b[39m Sequentiel([\n\u001b[0;32m----> 2\u001b[0m     \u001b[43mConv1D\u001b[49m\u001b[43m(\u001b[49m\u001b[43mk_size\u001b[49m\u001b[38;5;241;43m=\u001b[39;49m\u001b[38;5;241;43m3\u001b[39;49m\u001b[43m,\u001b[49m\u001b[43m \u001b[49m\u001b[43mchan_in\u001b[49m\u001b[38;5;241;43m=\u001b[39;49m\u001b[38;5;241;43m1\u001b[39;49m\u001b[43m,\u001b[49m\u001b[43m \u001b[49m\u001b[43mchan_out\u001b[49m\u001b[38;5;241;43m=\u001b[39;49m\u001b[38;5;241;43m32\u001b[39;49m\u001b[43m,\u001b[49m\u001b[43m \u001b[49m\u001b[43mstride\u001b[49m\u001b[38;5;241;43m=\u001b[39;49m\u001b[38;5;241;43m1\u001b[39;49m\u001b[43m,\u001b[49m\u001b[43m \u001b[49m\u001b[43minit\u001b[49m\u001b[38;5;241;43m=\u001b[39;49m\u001b[38;5;124;43m\"\u001b[39;49m\u001b[38;5;124;43mhe\u001b[39;49m\u001b[38;5;124;43m\"\u001b[39;49m\u001b[43m)\u001b[49m,\n\u001b[1;32m      3\u001b[0m     MaxPool1D(\u001b[38;5;241m2\u001b[39m, \u001b[38;5;241m2\u001b[39m),\n\u001b[1;32m      4\u001b[0m     Flatten(),\n\u001b[1;32m      5\u001b[0m     Linear(\u001b[38;5;241m4064\u001b[39m, \u001b[38;5;241m100\u001b[39m, init\u001b[38;5;241m=\u001b[39m\u001b[38;5;124m\"\u001b[39m\u001b[38;5;124mxavier\u001b[39m\u001b[38;5;124m\"\u001b[39m),\n\u001b[1;32m      6\u001b[0m     ReLU(),\n\u001b[1;32m      7\u001b[0m     Linear(\u001b[38;5;241m100\u001b[39m, \u001b[38;5;241m10\u001b[39m, init\u001b[38;5;241m=\u001b[39m\u001b[38;5;124m\"\u001b[39m\u001b[38;5;124mxavier\u001b[39m\u001b[38;5;124m\"\u001b[39m),\n\u001b[1;32m      8\u001b[0m     SoftMax()\n\u001b[1;32m      9\u001b[0m ])\n\u001b[1;32m     11\u001b[0m opti \u001b[38;5;241m=\u001b[39m Optim(cnn_usps,CrossEntropieLoss(), eps\u001b[38;5;241m=\u001b[39m\u001b[38;5;241m1e-5\u001b[39m)\n\u001b[1;32m     12\u001b[0m opti\u001b[38;5;241m.\u001b[39mSGD(X_train, Y_train, batch_size\u001b[38;5;241m=\u001b[39m\u001b[38;5;28mlen\u001b[39m(X_train), epochs\u001b[38;5;241m=\u001b[39m\u001b[38;5;241m2\u001b[39m, verbose\u001b[38;5;241m=\u001b[39m\u001b[38;5;28;01mFalse\u001b[39;00m)\n",
      "File \u001b[0;32m~/Personel Fold/Etudes/M1 works/ML/Neural-Network/modules.py:218\u001b[0m, in \u001b[0;36mConv1D.__init__\u001b[0;34m(self, k_size, chan_in, chan_out, stride, init)\u001b[0m\n\u001b[1;32m    217\u001b[0m \u001b[38;5;28;01mdef\u001b[39;00m \u001b[38;5;21m__init__\u001b[39m(\u001b[38;5;28mself\u001b[39m, k_size, chan_in, chan_out, stride, init\u001b[38;5;241m=\u001b[39m\u001b[38;5;124m\"\u001b[39m\u001b[38;5;124muniform\u001b[39m\u001b[38;5;124m\"\u001b[39m):\n\u001b[0;32m--> 218\u001b[0m     \u001b[38;5;28;43msuper\u001b[39;49m\u001b[43m(\u001b[49m\u001b[43m)\u001b[49m\u001b[38;5;241;43m.\u001b[39;49m\u001b[38;5;21;43m__init__\u001b[39;49m\u001b[43m(\u001b[49m\u001b[38;5;28;43;01mNone\u001b[39;49;00m\u001b[43m,\u001b[49m\u001b[38;5;28;43;01mNone\u001b[39;49;00m\u001b[43m,\u001b[49m\u001b[38;5;28;43;01mNone\u001b[39;49;00m\u001b[43m,\u001b[49m\u001b[38;5;28;43;01mNone\u001b[39;49;00m\u001b[43m)\u001b[49m\n\u001b[1;32m    220\u001b[0m     \u001b[38;5;28mself\u001b[39m\u001b[38;5;241m.\u001b[39m_k_size \u001b[38;5;241m=\u001b[39m k_size\n\u001b[1;32m    221\u001b[0m     \u001b[38;5;28mself\u001b[39m\u001b[38;5;241m.\u001b[39m_chan_in \u001b[38;5;241m=\u001b[39m chan_in\n",
      "File \u001b[0;32m~/Personel Fold/Etudes/M1 works/ML/Neural-Network/modules.py:131\u001b[0m, in \u001b[0;36mModuleLineaire.__init__\u001b[0;34m(self, d, d_prime, plage_biais, facteur_norma, init)\u001b[0m\n\u001b[1;32m    129\u001b[0m \u001b[38;5;28;01mdef\u001b[39;00m \u001b[38;5;21m__init__\u001b[39m(\u001b[38;5;28mself\u001b[39m,d,d_prime,plage_biais,facteur_norma,init\u001b[38;5;241m=\u001b[39m\u001b[38;5;124m\"\u001b[39m\u001b[38;5;124muniform\u001b[39m\u001b[38;5;124m\"\u001b[39m):\n\u001b[0;32m--> 131\u001b[0m     val0,val1 \u001b[38;5;241m=\u001b[39m plage_biais\n\u001b[1;32m    133\u001b[0m     \u001b[38;5;28;01mif\u001b[39;00m init \u001b[38;5;241m==\u001b[39m \u001b[38;5;124m\"\u001b[39m\u001b[38;5;124muniform\u001b[39m\u001b[38;5;124m\"\u001b[39m:\n\u001b[1;32m    134\u001b[0m         \u001b[38;5;28mself\u001b[39m\u001b[38;5;241m.\u001b[39m_parameters \u001b[38;5;241m=\u001b[39m np\u001b[38;5;241m.\u001b[39mrandom\u001b[38;5;241m.\u001b[39muniform(\u001b[38;5;241m-\u001b[39m\u001b[38;5;241m1\u001b[39m,\u001b[38;5;241m1\u001b[39m,(d,d_prime)) \u001b[38;5;241m*\u001b[39m facteur_norma\n",
      "\u001b[0;31mTypeError\u001b[0m: cannot unpack non-iterable NoneType object"
     ]
    }
   ],
   "source": [
    "cnn_usps = Sequentiel([\n",
    "    Conv1D(k_size=3, chan_in=1, chan_out=32, stride=1, init=\"he\"),\n",
    "    MaxPool1D(2, 2),\n",
    "    Flatten(),\n",
    "    Linear(4064, 100, init=\"xavier\"),\n",
    "    ReLU(),\n",
    "    Linear(100, 10, init=\"xavier\"),\n",
    "    SoftMax()\n",
    "])\n",
    "\n",
    "opti = Optim(cnn_usps,CrossEntropieLoss(), eps=1e-5)\n",
    "opti.SGD(X_train, Y_train, batch_size=len(X_train), epochs=2, verbose=False)"
   ]
  },
  {
   "cell_type": "code",
   "execution_count": null,
   "id": "2d9cf250",
   "metadata": {},
   "outputs": [],
   "source": []
  },
  {
   "cell_type": "code",
   "execution_count": null,
   "id": "eac98265",
   "metadata": {},
   "outputs": [],
   "source": []
  }
 ],
 "metadata": {
  "kernelspec": {
   "display_name": "Python 3 (ipykernel)",
   "language": "python",
   "name": "python3"
  },
  "language_info": {
   "codemirror_mode": {
    "name": "ipython",
    "version": 3
   },
   "file_extension": ".py",
   "mimetype": "text/x-python",
   "name": "python",
   "nbconvert_exporter": "python",
   "pygments_lexer": "ipython3",
   "version": "3.9.12"
  }
 },
 "nbformat": 4,
 "nbformat_minor": 5
}
